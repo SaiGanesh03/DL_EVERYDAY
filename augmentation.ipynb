{
  "nbformat": 4,
  "nbformat_minor": 0,
  "metadata": {
    "colab": {
      "provenance": []
    },
    "kernelspec": {
      "name": "python3",
      "display_name": "Python 3"
    },
    "language_info": {
      "name": "python"
    }
  },
  "cells": [
    {
      "cell_type": "code",
      "source": [
        "#data augmentation in python"
      ],
      "metadata": {
        "id": "appcFkI7KjCy"
      },
      "execution_count": 1,
      "outputs": []
    },
    {
      "cell_type": "code",
      "execution_count": 2,
      "metadata": {
        "id": "jMWkfPf43tSd"
      },
      "outputs": [],
      "source": [
        "from keras.preprocessing.image import ImageDataGenerator, array_to_img, img_to_array, load_img\n",
        "\n",
        "datagen = ImageDataGenerator(\n",
        "    rotation_range= 40,\n",
        "    width_shift_range= 0.2,\n",
        "    height_shift_range = 0.2,\n",
        "    shear_range = 0.2,\n",
        "    zoom_range = 0.2,\n",
        "    horizontal_flip = True,\n",
        "    fill_mode = 'nearest'\n",
        ")\n",
        "img = load_img('/content/cattt.jpeg') #pil image\n",
        "x = img_to_array(img) # numpy array wwith shape (3,150,150)\n",
        "x = x.reshape((1,) + x.shape) # numpy array with shape (1,3,150,150)\n",
        "i = 0\n",
        "#.flow command generates batches of ranndomly transformed images\n",
        "for batch in datagen.flow(x, batch_size = 1, save_to_dir = '/content', save_prefix = 'cattt', save_format = 'jpeg'):\n",
        "    i += 1\n",
        "    if i > 20:\n",
        "        break\n"
      ]
    },
    {
      "cell_type": "code",
      "source": [],
      "metadata": {
        "id": "dVMwPBYrRTZv"
      },
      "execution_count": null,
      "outputs": []
    }
  ]
}